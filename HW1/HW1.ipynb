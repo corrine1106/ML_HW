{
 "cells": [
  {
   "cell_type": "code",
   "execution_count": 50,
   "metadata": {},
   "outputs": [],
   "source": [
    "import pandas as pd\n",
    "import numpy as np\n",
    "#from scipy.linalg import lu\n",
    "import matplotlib.pyplot as plt\n",
    "\n",
    "data=pd.read_table('test.txt',sep=',',header=None)\n",
    "\n",
    "def transpose(A):\n",
    "    return map(list,zip(*A))\n",
    "\n",
    "def getMinor(A,i,j):\n",
    "    B=np.zeros((len(A)-1,len(A)-1))\n",
    "    for row,i in zip(np.concatenate((A[:i],A[i+1:]),axis=0),range(len(B))):\n",
    "        B[i,:]=np.concatenate((row[:j],row[j+1:]),axis=0)\n",
    "    return B #0是上下 1是左右\n",
    "\n",
    "def determinant_recursive(A, total=0):\n",
    "    # Section 1: store indices in list for row referencing\n",
    "    indices = list(range(len(A))) \n",
    "    \n",
    "    if len(A) == 2 and len(A[0]) == 2:\n",
    "        val = A[0][0] * A[1][1] - A[1][0] * A[0][1]\n",
    "        return val\n",
    "    # Section 3: define submatrix for focus column and \n",
    "    #      call this function\n",
    "    for fc in indices: # A) for each focus column, ...\n",
    "        # find the submatrix ...\n",
    "        As = A # B) make a copy, and ...\n",
    "        \n",
    "        As=getMinor(A,0,fc)\n",
    "        sign = (-1) ** (fc % 2) # F) \n",
    "        #print('Min',As,fc)\n",
    "        # G) pass submatrix recursively\n",
    "        sub_det = determinant_recursive(As)\n",
    "        # H) total all returns from recursion\n",
    "        total += sign * A[0][fc] * sub_det \n",
    " \n",
    "    return total\n",
    "#矩陣乘法\n",
    "def dot(A,B):\n",
    "    C=np.zeros((len(A),len(B.T)))\n",
    "    for i in range(len(C)):\n",
    "        for j in range(len(C.T)):\n",
    "            a=0\n",
    "            for k in range(len(A.T)):\n",
    "                a+=A[i,k]*B[k,j]\n",
    "            C[i,j]=a\n",
    "    return C\n",
    "\n",
    "\n",
    "def tri_inv(A):\n",
    "    B=np.copy(A)\n",
    "    #print(A,type(A))\n",
    "    #print(len(A))\n",
    "    if len(A)==2:\n",
    "        B[0,0]=A[1,1]\n",
    "        B[0,1]=-A[1,0]\n",
    "        B[1,0]=-A[0,1]\n",
    "        B[1,1]=A[0,0]\n",
    "    else:\n",
    "        for i in range(len(A)):\n",
    "            for j in range(len(B)):\n",
    "                sign=(-1)**((i+j)%2)\n",
    "                B[i,j]=sign*determinant_recursive(getMinor(A,i,j))\n",
    "                #print(getMinor(A,i,j),'\\n det=',determinant_recursive(getMinor(A,i,j)))\n",
    "                #print(B,i,j,'sign',sign)\n",
    "    #print(determinant_recursive(A))\n",
    "    #print(A,B)\n",
    "    B=B.T*(1/determinant_recursive(A))\n",
    "    return B\n"
   ]
  },
  {
   "cell_type": "code",
   "execution_count": 2,
   "metadata": {},
   "outputs": [],
   "source": [
    "def check_pivot(A,column):\n",
    "    max_item=0\n",
    "    max_row=0\n",
    "    for i in range(column,len(A)):\n",
    "        if A[i][column]>max_item:\n",
    "            max_item=A[i][column]\n",
    "            max_row=i\n",
    "    P = np.zeros((len(A),len(A)))\n",
    "    for i in range(len(A)):\n",
    "        P[i][i] = 1\n",
    "    if column==max_row:\n",
    "        #print('column==max_row',P)\n",
    "        return P\n",
    "    else:\n",
    "        P[max_row][column]=1\n",
    "        P[column][max_row]=1\n",
    "        P[max_row][max_row]=0\n",
    "        P[column][column]=0\n",
    "        #print('column!=max_row',P)\n",
    "        return P"
   ]
  },
  {
   "cell_type": "code",
   "execution_count": 39,
   "metadata": {},
   "outputs": [],
   "source": [
    "\n",
    "def lu(A):\n",
    "\t\n",
    "    n = len(A) # Give us total of lines\n",
    "    #get L by P-1AU-1=L\n",
    "    U=A\n",
    "    #print('copy',U)\n",
    "    P = np.zeros((n,n))\n",
    "    for i in range(len(A)):\n",
    "        P[i][i] = 1\n",
    "    #print('generate',P)\n",
    "\t#Find L matrices\n",
    "    for column in range(0,n): # for i in [0,1,2,..,n]\n",
    "        P1=check_pivot(U,column)\n",
    "        P=dot(P1,P)\n",
    "        U=dot(P1,U)\n",
    "        #print('check',P,U)\n",
    "        for i in range(column+1,n): #不能減自己\n",
    "            c=-U[i][column]/float(U[column][column])\n",
    "            #print('i,column=',i,column)\n",
    "            for j in range(column,n):\n",
    "                U[i][j]+=c*U[column][j]\n",
    "                #print('\\n',U,c,i,j,column)\n",
    "                if i>j:\n",
    "                    U[i][j]=0\n",
    "    L=dot(dot(tri_inv(P),A),tri_inv(U))\n",
    "        \n",
    "    #print(L,'U\\n',U,'inv\\n',tri_inv(U))\n",
    "    return P,L,U"
   ]
  },
  {
   "cell_type": "code",
   "execution_count": 49,
   "metadata": {},
   "outputs": [],
   "source": [
    "def Newton(A,y):\n",
    "    x=np.random.randn(len(A.T)).reshape(-1,1)\n",
    "    f1=2*dot(dot(A.T,A),x)-2*dot(A.T,y)\n",
    "    Hf=2*dot(A.T,A)\n",
    "    while f1.all()!=0:\n",
    "        x=x-dot(tri_inv(Hf),f1)\n",
    "        f1=2*dot(dot(A.T,A),x)-2*dot(A.T,y)\n",
    "    return x\n",
    "\n",
    "\n",
    "def program(x,y,n,λ=0):\n",
    "    #power\n",
    "    X=np.matrix(x).reshape(-1,1)\n",
    "    A=np.matrix(x).reshape(-1,1)\n",
    "    for i in range(n-2):\n",
    "        A=np.append(A,np.power(X,i+2).reshape(-1,1),1)\n",
    "    A=np.append(A,np.ones((len(x),1)),1)\n",
    "    #print(A)\n",
    "    if λ==0:\n",
    "        p,l,u=lu(dot(A.T,A))\n",
    "        #print(l)\n",
    "        det_l=np.prod(np.diag(l))\n",
    "        det_u=np.prod(np.diag(u))\n",
    "        #print(det_l,det_u)\n",
    "        if det_l !=0 and det_u != 0:\n",
    "            #先略過自己KEY反矩陣的部分\n",
    "            l_inv=tri_inv(l)\n",
    "            u_inv=tri_inv(u)\n",
    "            p_inv=tri_inv(p)\n",
    "            B=dot(dot(u_inv,l_inv),p_inv)\n",
    "            para=dot(dot(B,A.T),y)\n",
    "            #print(para)\n",
    "            para_new=Newton(A,y)\n",
    "            print(\"LSE:\\nFitting line:\")\n",
    "            for i in range(n-1):\n",
    "                print(\"%f X^%d+\"%(para[n-i-2],n-i-1))\n",
    "            print(\"%f\"%para[n-1])\n",
    "            print('Total error: %f'%np.square(np.subtract(dot(A,para),y)).sum())\n",
    "            print(\"Newton's Method':\\nFitting line:\")\n",
    "            for i in range(n-1):\n",
    "                print(\"%f X^%d+\"%(para_new[n-i-2],n-i-1))\n",
    "            print(\"%f\"%para_new[n-1])\n",
    "            print('Total error: %f'%np.square(np.subtract(dot(A,para_new),y)).sum())\n",
    "        else:print(\"Singular!!!\")\n",
    "    else:\n",
    "        p_new,l_new,u_new=lu(dot(A.T,A))\n",
    "        \n",
    "        det_l_new=np.prod(np.diag(l_new))\n",
    "        det_u_new=np.prod(np.diag(u_new))\n",
    "        p,l,u=lu(dot(A.T,A)+λ*np.identity(len(A.T)))\n",
    "        det_l=np.prod(np.diag(l))\n",
    "        det_u=np.prod(np.diag(u))\n",
    "        if det_l_new !=0 and det_u_new != 0 and det_l !=0 and det_u != 0:\n",
    "            #先略過自己KEY反矩陣的部分\n",
    "            #Newton 要改\n",
    "            l_inv=tri_inv(l)\n",
    "            u_inv=tri_inv(u)\n",
    "            p_inv=tri_inv(p)\n",
    "            B=dot(dot(u_inv,l_inv),p_inv)\n",
    "            para=dot(dot(B,A.T),y)\n",
    "            l_new_inv=tri_inv(l_new)\n",
    "            u_new_inv=tri_inv(u_new)\n",
    "            p_new_inv=tri_inv(p_new)\n",
    "            B_new=dot(dot(u_new_inv,l_new_inv),p_new_inv)\n",
    "            para_new=dot(dot(B_new,A.T),y)\n",
    "            print(\"LSE:\\nFitting line:\")\n",
    "            for i in range(n-1):\n",
    "                print(\"%f X^%d+\"%(para[n-i-2],n-i-1))\n",
    "            print(\"%f\"%para[n-1])\n",
    "            print('Total error: %f'%np.square(np.subtract(dot(A,para),y)).sum())\n",
    "            print(\"Newton's Method:\\nFitting line:\")\n",
    "            for i in range(n-1):\n",
    "                print(\"%f X^%d+\"%(para_new[n-i-2],n-i-1))\n",
    "            print(\"%f\"%para_new[n-1])\n",
    "            print('Total error: %f'%np.square(np.subtract(dot(A,para_new),y)).sum())\n",
    "        else:print(\"Singular!!!\")\n",
    "    fig, axs = plt.subplots(2, 1)\n",
    "    axs[0].plot(x,y,'o',x,dot(A,para),'-')\n",
    "    axs[0].set_title('LSE')\n",
    "    axs[1].plot(x,y,'o',x,dot(A,para_new),'-')\n",
    "    axs[1].set_title(\"Newton's Method\")\n",
    "    fig.tight_layout()\n",
    "    plt.show()"
   ]
  },
  {
   "cell_type": "code",
   "execution_count": 12,
   "metadata": {},
   "outputs": [],
   "source": [
    "x=data[0].values.reshape(-1,1)\n",
    "y=data[1].values.reshape(-1,1)"
   ]
  },
  {
   "cell_type": "code",
   "execution_count": 53,
   "metadata": {},
   "outputs": [
    {
     "name": "stdout",
     "output_type": "stream",
     "text": [
      "LSE:\n",
      "Fitting line:\n",
      "0.834533 X^2+\n",
      "0.093148 X^1+\n",
      "0.046951\n",
      "Total error: 22649.738493\n",
      "Newton's Method:\n",
      "Fitting line:\n",
      "3.023853 X^2+\n",
      "4.906190 X^1+\n",
      "-0.231402\n",
      "Total error: 26.559959\n"
     ]
    },
    {
     "data": {
      "image/png": "[encoded data removed]",
      "text/plain": [
       "<Figure size 432x288 with 2 Axes>"
      ]
     },
     "metadata": {
      "needs_background": "light"
     },
     "output_type": "display_data"
    }
   ],
   "source": [
    "program(x,y,3,10000)"
   ]
  },
  {
   "cell_type": "code",
   "execution_count": 161,
   "metadata": {},
   "outputs": [],
   "source": [
    "A=np.array([[1., 6., 0.],\n",
    " [5., 3., 3.],\n",
    " [0. ,0., 1.]])"
   ]
  },
  {
   "cell_type": "code",
   "execution_count": 13,
   "metadata": {},
   "outputs": [
    {
     "data": {
      "text/plain": [
       "numpy.ndarray"
      ]
     },
     "execution_count": 13,
     "metadata": {},
     "output_type": "execute_result"
    }
   ],
   "source": [
    "[row[:j] + row[j+1:] for row in np.concatenate((A[:i],A[i+1:]),axis=0)]"
   ]
  },
  {
   "cell_type": "code",
   "execution_count": null,
   "metadata": {},
   "outputs": [],
   "source": []
  }
 ],
 "metadata": {
  "kernelspec": {
   "display_name": "Python 3",
   "language": "python",
   "name": "python3"
  },
  "language_info": {
   "codemirror_mode": {
    "name": "ipython",
    "version": 3
   },
   "file_extension": ".py",
   "mimetype": "text/x-python",
   "name": "python",
   "nbconvert_exporter": "python",
   "pygments_lexer": "ipython3",
   "version": "3.7.9"
  }
 },
 "nbformat": 4,
 "nbformat_minor": 4
}
